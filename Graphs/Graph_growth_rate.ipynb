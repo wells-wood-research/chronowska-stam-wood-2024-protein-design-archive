{
 "cells": [
  {
   "cell_type": "code",
   "execution_count": 93,
   "id": "0c966067-9aa3-40fe-bf37-d111eb3d6797",
   "metadata": {},
   "outputs": [],
   "source": [
    "import pandas as pd\n",
    "import numpy as np\n",
    "import matplotlib\n",
    "import matplotlib.pyplot as plt\n",
    "from scipy.optimize import curve_fit\n",
    "from scipy.stats import linregress"
   ]
  },
  {
   "cell_type": "code",
   "execution_count": 94,
   "id": "8e0ed866-c2b9-41e0-8544-7b5710555412",
   "metadata": {},
   "outputs": [],
   "source": [
    "designs = pd.read_json(\"/home/mchrnwsk/chronowska-stam-wood-2024-protein-design-archive/data/20250201_data_curated.json\")"
   ]
  },
  {
   "cell_type": "code",
   "execution_count": 95,
   "id": "d7259075-9889-4625-9e4f-10418b237c33",
   "metadata": {},
   "outputs": [],
   "source": [
    "growth = designs[[\"pdb\", \"release_date\"]]"
   ]
  },
  {
   "cell_type": "code",
   "execution_count": 96,
   "id": "e2d6f79f-7f37-47ec-8c1f-99948898fb13",
   "metadata": {},
   "outputs": [
    {
     "name": "stderr",
     "output_type": "stream",
     "text": [
      "/tmp/ipykernel_35314/3167794856.py:2: SettingWithCopyWarning: \n",
      "A value is trying to be set on a copy of a slice from a DataFrame.\n",
      "Try using .loc[row_indexer,col_indexer] = value instead\n",
      "\n",
      "See the caveats in the documentation: https://pandas.pydata.org/pandas-docs/stable/user_guide/indexing.html#returning-a-view-versus-a-copy\n",
      "  growth.loc[index, \"year\"] = date.split(\"-\")[0]\n"
     ]
    }
   ],
   "source": [
    "for index, date in enumerate(growth[\"release_date\"].values):\n",
    "    growth.loc[index, \"year\"] = date.split(\"-\")[0]"
   ]
  },
  {
   "cell_type": "code",
   "execution_count": 97,
   "id": "2bf0c2ea-9cc8-4b36-ab93-85103d4870f3",
   "metadata": {},
   "outputs": [
    {
     "data": {
      "text/html": [
       "<div>\n",
       "<style scoped>\n",
       "    .dataframe tbody tr th:only-of-type {\n",
       "        vertical-align: middle;\n",
       "    }\n",
       "\n",
       "    .dataframe tbody tr th {\n",
       "        vertical-align: top;\n",
       "    }\n",
       "\n",
       "    .dataframe thead th {\n",
       "        text-align: right;\n",
       "    }\n",
       "</style>\n",
       "<table border=\"1\" class=\"dataframe\">\n",
       "  <thead>\n",
       "    <tr style=\"text-align: right;\">\n",
       "      <th></th>\n",
       "      <th>pdb</th>\n",
       "      <th>year</th>\n",
       "    </tr>\n",
       "  </thead>\n",
       "  <tbody>\n",
       "    <tr>\n",
       "      <th>0</th>\n",
       "      <td>1abz</td>\n",
       "      <td>1998</td>\n",
       "    </tr>\n",
       "    <tr>\n",
       "      <th>1</th>\n",
       "      <td>1al1</td>\n",
       "      <td>1991</td>\n",
       "    </tr>\n",
       "    <tr>\n",
       "      <th>2</th>\n",
       "      <td>1bb1</td>\n",
       "      <td>1999</td>\n",
       "    </tr>\n",
       "    <tr>\n",
       "      <th>3</th>\n",
       "      <td>1byz</td>\n",
       "      <td>1998</td>\n",
       "    </tr>\n",
       "    <tr>\n",
       "      <th>4</th>\n",
       "      <td>1coi</td>\n",
       "      <td>1997</td>\n",
       "    </tr>\n",
       "    <tr>\n",
       "      <th>...</th>\n",
       "      <td>...</td>\n",
       "      <td>...</td>\n",
       "    </tr>\n",
       "    <tr>\n",
       "      <th>1552</th>\n",
       "      <td>9iz6</td>\n",
       "      <td>2024</td>\n",
       "    </tr>\n",
       "    <tr>\n",
       "      <th>1553</th>\n",
       "      <td>9j7t</td>\n",
       "      <td>2024</td>\n",
       "    </tr>\n",
       "    <tr>\n",
       "      <th>1554</th>\n",
       "      <td>9ju1</td>\n",
       "      <td>2024</td>\n",
       "    </tr>\n",
       "    <tr>\n",
       "      <th>1555</th>\n",
       "      <td>9kku</td>\n",
       "      <td>2024</td>\n",
       "    </tr>\n",
       "    <tr>\n",
       "      <th>1556</th>\n",
       "      <td>9mrf</td>\n",
       "      <td>2025</td>\n",
       "    </tr>\n",
       "  </tbody>\n",
       "</table>\n",
       "<p>1557 rows × 2 columns</p>\n",
       "</div>"
      ],
      "text/plain": [
       "       pdb  year\n",
       "0     1abz  1998\n",
       "1     1al1  1991\n",
       "2     1bb1  1999\n",
       "3     1byz  1998\n",
       "4     1coi  1997\n",
       "...    ...   ...\n",
       "1552  9iz6  2024\n",
       "1553  9j7t  2024\n",
       "1554  9ju1  2024\n",
       "1555  9kku  2024\n",
       "1556  9mrf  2025\n",
       "\n",
       "[1557 rows x 2 columns]"
      ]
     },
     "execution_count": 97,
     "metadata": {},
     "output_type": "execute_result"
    }
   ],
   "source": [
    "growth.drop([\"release_date\"], axis=1)"
   ]
  },
  {
   "cell_type": "code",
   "execution_count": 98,
   "id": "16680c07-bceb-4149-9b4d-d65ca5286e29",
   "metadata": {},
   "outputs": [],
   "source": [
    "value_counts_pdb = growth[\"year\"].value_counts()\n",
    "value_counts_df = value_counts_pdb.reset_index()\n",
    "value_counts_df.columns = [\"year\", \"count\"]"
   ]
  },
  {
   "cell_type": "code",
   "execution_count": 99,
   "id": "027d249d-54b2-4766-8510-691e307c05ae",
   "metadata": {},
   "outputs": [],
   "source": [
    "sorted_df = value_counts_df.sort_values(by=\"year\")"
   ]
  },
  {
   "cell_type": "code",
   "execution_count": 100,
   "id": "526d6dff-53c3-48c6-bf13-f4ef411e0284",
   "metadata": {},
   "outputs": [],
   "source": [
    "percentage_growth = sorted_df.copy()\n",
    "percentage_growth[\"growth_rate\"] = percentage_growth[\"count\"].pct_change(periods=1) * 100"
   ]
  },
  {
   "cell_type": "code",
   "execution_count": 101,
   "id": "a4db2402-f6ee-4fed-a238-1c3da8bc8922",
   "metadata": {},
   "outputs": [],
   "source": [
    "sorted_df[\"cumulative\"] = sorted_df[\"count\"].cumsum()"
   ]
  },
  {
   "cell_type": "code",
   "execution_count": 102,
   "id": "d1906bf0-689c-4d5d-ad2a-5bb081d40ae1",
   "metadata": {},
   "outputs": [],
   "source": [
    "fixed = sorted_df[:-1].copy()"
   ]
  },
  {
   "cell_type": "code",
   "execution_count": 103,
   "id": "05328bbb-4ddc-4a18-aebc-ec0825e26088",
   "metadata": {},
   "outputs": [],
   "source": [
    "start_year = 1997\n",
    "split_year = 2010\n",
    "years = np.array(fixed[\"year\"])\n",
    "years = years.astype(\"int64\")\n",
    "cumulative = np.array(fixed[\"cumulative\"])\n",
    "cumulative = cumulative.astype(\"int64\")"
   ]
  },
  {
   "cell_type": "code",
   "execution_count": 104,
   "id": "dd88d641",
   "metadata": {},
   "outputs": [],
   "source": [
    "plt.rcParams[\"font.family\"] = \"sans-serif\"\n",
    "plt.rcParams.update({\"font.size\": 7})"
   ]
  },
  {
   "cell_type": "code",
   "execution_count": 126,
   "id": "9b0ab4d6-c4e1-4ee0-8196-15eb5fa9218e",
   "metadata": {},
   "outputs": [
    {
     "name": "stderr",
     "output_type": "stream",
     "text": [
      "/tmp/ipykernel_35314/3465933932.py:11: SettingWithCopyWarning: \n",
      "A value is trying to be set on a copy of a slice from a DataFrame.\n",
      "Try using .loc[row_indexer,col_indexer] = value instead\n",
      "\n",
      "See the caveats in the documentation: https://pandas.pydata.org/pandas-docs/stable/user_guide/indexing.html#returning-a-view-versus-a-copy\n",
      "  growth[\"year\"] = growth[\"release_date\"].apply(lambda x: int(x.split(\"-\")[0]))\n",
      "/tmp/ipykernel_35314/3465933932.py:12: SettingWithCopyWarning: \n",
      "A value is trying to be set on a copy of a slice from a DataFrame\n",
      "\n",
      "See the caveats in the documentation: https://pandas.pydata.org/pandas-docs/stable/user_guide/indexing.html#returning-a-view-versus-a-copy\n",
      "  growth.drop([\"release_date\"], axis=1, inplace=True)\n"
     ]
    },
    {
     "data": {
      "image/png": "[encoded data removed]",
      "text/plain": [
       "<Figure size 709x450 with 1 Axes>"
      ]
     },
     "metadata": {},
     "output_type": "display_data"
    },
    {
     "name": "stdout",
     "output_type": "stream",
     "text": [
      "Region 1 fit parameters:\n",
      "  Slope: 9.876923076923077\n",
      "  Intercept: -19723.84395604396\n",
      "  R-squared: 0.9718865614641601\n",
      "  p-value: 1.1274430458844851e-10\n",
      "  Standard error: 0.48493132990026033\n",
      "Region 2 fit parameters:\n",
      "  Slope: 78.60909090909091\n",
      "  Intercept: -157958.83636363636\n",
      "  R-squared: 0.98583594568282\n",
      "  p-value: 1.2463946997143428e-09\n",
      "  Standard error: 3.1408195546302076\n",
      "Region 3 fit parameters:\n",
      "  Slope: 226.0\n",
      "  Intercept: -455884.0\n",
      "  R-squared: 0.9941606976019933\n",
      "  p-value: 0.04869497832952628\n",
      "  Standard error: 17.320508075688508\n"
     ]
    }
   ],
   "source": [
    "# Set breakpoints for plotting!\n",
    "start_year = 1997\n",
    "split_year = 2010\n",
    "split_year_2 = 2021\n",
    "\n",
    "# Read in data and extract only relevant columns\n",
    "designs = pd.read_json(\"/home/mchrnwsk/pda-destress-analysis/data/20250201_data_curated.json\")\n",
    "growth = designs[[\"pdb\", \"release_date\"]]\n",
    "\n",
    "# Extract just the year of release from full date\n",
    "growth[\"year\"] = growth[\"release_date\"].apply(lambda x: int(x.split(\"-\")[0]))\n",
    "growth.drop([\"release_date\"], axis=1, inplace=True)\n",
    "\n",
    "# Calculate cumulative total of designs per year\n",
    "value_counts_pdb = growth[\"year\"].value_counts()\n",
    "value_counts_df = value_counts_pdb.reset_index()\n",
    "value_counts_df.columns = [\"year\", \"count\"]\n",
    "sorted_df = value_counts_df.sort_values(by=\"year\")\n",
    "\n",
    "# Compute cumulative sum of designs released\n",
    "sorted_df[\"cumulative\"] = sorted_df[\"count\"].cumsum()\n",
    "\n",
    "# Remove current year because numbers are incomplete\n",
    "fixed = sorted_df[:-1].copy()\n",
    "\n",
    "# Convert data types for plotting\n",
    "years = fixed[\"year\"].to_numpy()\n",
    "cumulative = fixed[\"cumulative\"].to_numpy()\n",
    "\n",
    "# Set masks for regions to fit\n",
    "region1_mask = (years <= split_year) & (years >= start_year)\n",
    "region2_mask = (years > split_year) & (years <= split_year_2)\n",
    "region3_mask = (years > split_year_2)\n",
    "\n",
    "years_region1 = years[region1_mask]\n",
    "cumulative_region1 = cumulative[region1_mask]\n",
    "years_region2 = years[region2_mask]\n",
    "cumulative_region2 = cumulative[region2_mask]\n",
    "years_region3 = years[region3_mask]\n",
    "cumulative_region3 = cumulative[region3_mask]\n",
    "\n",
    "# Fit linear models to each region\n",
    "slope1, intercept1, r_value1, p_value1, std_err1 = linregress(years_region1, cumulative_region1)\n",
    "slope2, intercept2, r_value2, p_value2, std_err2 = linregress(years_region2, cumulative_region2)\n",
    "slope3, intercept3, r_value3, p_value3, std_err3 = linregress(years_region3, cumulative_region3)\n",
    "\n",
    "# Generate predictions for each region\n",
    "years_fit1 = np.linspace(years_region1.min(), years_region1.max(), 100)\n",
    "years_fit2 = np.linspace(years_region2.min(), years_region2.max(), 100)\n",
    "years_fit3 = np.linspace(years_region3.min(), years_region3.max(), 100)\n",
    "fit_line1 = slope1 * years_fit1 + intercept1\n",
    "fit_line2 = slope2 * years_fit2 + intercept2\n",
    "fit_line3 = slope3 * years_fit3 + intercept3\n",
    "\n",
    "# For single column\n",
    "#plt.rcParams[\"figure.figsize\"] = [3.54, 3.54]\n",
    "#fig, ax = plt.subplots(figsize=(3.54, 3.54))  # 90 mm x 90 mm\n",
    "# For double column\n",
    "#plt.rcParams[\"figure.figsize\"] = [7.09, 4.50]\n",
    "fig, ax = plt.subplots(figsize=(7.09, 4.5))  # 180 mm width, adjust height\n",
    "plt.margins(0.05)  # Remove margins around data\n",
    "plt.rcParams[\"figure.autolayout\"] = True\n",
    "\n",
    "ax.scatter(years, cumulative, label=\"Cumulative number of protein designs\", marker=\"o\", color=\"#1f77b4\")\n",
    "\n",
    "# Plot the fitted lines for each region\n",
    "ax.plot(years_fit1, fit_line1, label='Dominance of minimal and rational approaches', color=\"#ff7f0e\", linestyle=\"-\", linewidth=2)\n",
    "ax.plot(years_fit2, fit_line2, label='Dominance of computational, physics-based approaches', color=\"#2ca02c\", linestyle=\"-.\", linewidth=2)\n",
    "ax.plot(years_fit3, fit_line3, label='Emergence of computational, deep learning-based approaches', color=\"#d62728\", linestyle=\":\", linewidth=2)\n",
    "\n",
    "# Manually set x-axis ticks for every year\n",
    "plt.xticks(np.arange(years.min(), years.max() + 1, 1), rotation=90)\n",
    "\n",
    "# Labels and legend\n",
    "plt.xlabel('Year')\n",
    "plt.ylabel('Cumulative number of protein designs')\n",
    "plt.title('Cumulative number of protein designs over the years')\n",
    "#plt.legend()\n",
    "#plt.grid(True)\n",
    "ax.grid(False)\n",
    "plt.tight_layout(pad=0.0)\n",
    "\n",
    "# Save and show\n",
    "plt.savefig(\"/home/mchrnwsk/chronowska-stam-wood-2024-protein-design-archive/Graphs/20250201_cumulative_growth_test.svg\", dpi=300, bbox_inches=\"tight\", pad_inches=0, transparent=True )\n",
    "plt.show()\n",
    "\n",
    "# Print parameters and statistics\n",
    "print(\"Region 1 fit parameters:\")\n",
    "print(\"  Slope:\", slope1)\n",
    "print(\"  Intercept:\", intercept1)\n",
    "print(\"  R-squared:\", r_value1**2)\n",
    "print(\"  p-value:\", p_value1)\n",
    "print(\"  Standard error:\", std_err1)\n",
    "\n",
    "print(\"Region 2 fit parameters:\")\n",
    "print(\"  Slope:\", slope2)\n",
    "print(\"  Intercept:\", intercept2)\n",
    "print(\"  R-squared:\", r_value2**2)\n",
    "print(\"  p-value:\", p_value2)\n",
    "print(\"  Standard error:\", std_err2)\n",
    "\n",
    "print(\"Region 3 fit parameters:\")\n",
    "print(\"  Slope:\", slope3)\n",
    "print(\"  Intercept:\", intercept3)\n",
    "print(\"  R-squared:\", r_value3**2)\n",
    "print(\"  p-value:\", p_value3)\n",
    "print(\"  Standard error:\", std_err3)"
   ]
  },
  {
   "cell_type": "code",
   "execution_count": 29,
   "id": "e33552b0-3e39-4d91-b9f9-2306a3c46b44",
   "metadata": {},
   "outputs": [],
   "source": [
    "split_years = [2000, 2010]\n",
    "years = np.array(fixed[\"year\"])\n",
    "years = years.astype(\"int64\")\n",
    "cumulative = np.array(fixed[\"cumulative\"])\n",
    "cumulative = cumulative.astype(\"int64\")"
   ]
  },
  {
   "cell_type": "code",
   "execution_count": null,
   "id": "7a3bb4eb-c9cd-4f37-8597-092f19e23d52",
   "metadata": {},
   "outputs": [],
   "source": []
  }
 ],
 "metadata": {
  "kernelspec": {
   "display_name": "Python 3 (ipykernel)",
   "language": "python",
   "name": "python3"
  },
  "language_info": {
   "codemirror_mode": {
    "name": "ipython",
    "version": 3
   },
   "file_extension": ".py",
   "mimetype": "text/x-python",
   "name": "python",
   "nbconvert_exporter": "python",
   "pygments_lexer": "ipython3",
   "version": "3.10.12"
  }
 },
 "nbformat": 4,
 "nbformat_minor": 5
}
