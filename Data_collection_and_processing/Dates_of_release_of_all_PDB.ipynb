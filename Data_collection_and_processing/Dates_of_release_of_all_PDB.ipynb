{
 "cells": [
  {
   "cell_type": "code",
   "execution_count": 2,
   "id": "aa960b52-a51a-433d-a4cc-0c58f1bfca72",
   "metadata": {},
   "outputs": [],
   "source": [
    "import pandas as pd\n",
    "import glob\n",
    "import os"
   ]
  },
  {
   "cell_type": "markdown",
   "id": "d852e7fb-02a0-4d4a-8b2e-432c22bb249f",
   "metadata": {},
   "source": [
    "# Release dates of all PDBs downloaded from [here](https://www.rcsb.org/search?request=%7B%22query%22%3A%7B%22type%22%3A%22group%22%2C%22nodes%22%3A%5B%7B%22type%22%3A%22group%22%2C%22nodes%22%3A%5B%7B%22type%22%3A%22group%22%2C%22nodes%22%3A%5B%7B%22parameters%22%3A%7B%22attribute%22%3A%22rcsb_accession_info.initial_release_date%22%2C%22operator%22%3A%22less%22%2C%22value%22%3A%222024-08-21%22%7D%2C%22type%22%3A%22terminal%22%2C%22service%22%3A%22text%22%7D%5D%2C%22logical_operator%22%3A%22and%22%7D%5D%2C%22logical_operator%22%3A%22and%22%2C%22label%22%3A%22text%22%7D%5D%2C%22logical_operator%22%3A%22and%22%7D%2C%22return_type%22%3A%22entry%22%2C%22request_options%22%3A%7B%22paginate%22%3A%7B%22start%22%3A0%2C%22rows%22%3A25%7D%2C%22results_content_type%22%3A%5B%22experimental%22%5D%2C%22sort%22%3A%5B%7B%22sort_by%22%3A%22score%22%2C%22direction%22%3A%22desc%22%7D%5D%2C%22scoring_strategy%22%3A%22combined%22%7D%2C%22request_info%22%3A%7B%22query_id%22%3A%22c9bf05df817bf5ef6d1570523a57b4ba%22%7D%7D)"
   ]
  },
  {
   "cell_type": "code",
   "execution_count": 42,
   "id": "935e8e6d-94b8-4bb2-9b39-1bd38a17cb9f",
   "metadata": {},
   "outputs": [],
   "source": [
    "# Specify the directory containing the CSV files\n",
    "directory = \"/./data/pdb_release_dates/\"\n",
    "# Use glob to get all the CSV file paths\n",
    "all_files = glob.glob(os.path.join(directory, \"*.csv\"))\n",
    "\n",
    "# Create an empty list to hold the DataFrames\n",
    "dfs = []\n",
    "\n",
    "# Loop over the file paths and read each file\n",
    "for file in all_files:\n",
    "    df = pd.read_csv(file, header=1)  # read the CSV file\n",
    "    dfs.append(df)          # append the DataFrame to the list\n",
    "\n",
    "# Concatenate all the DataFrames into one\n",
    "combined_df = pd.concat(dfs, ignore_index=True)\n",
    "combined_df = combined_df.drop(labels=[\"Unnamed: 3\", \"PDB ID\"], axis=1)"
   ]
  },
  {
   "cell_type": "code",
   "execution_count": 46,
   "id": "4a7960a9-0655-4421-880a-cfa5d34b102a",
   "metadata": {},
   "outputs": [],
   "source": [
    "combined_df[\"Entry ID\"] = combined_df[\"Entry ID\"].str.lower()"
   ]
  },
  {
   "cell_type": "code",
   "execution_count": 50,
   "id": "2060213b-6400-4e06-b8cf-8778465e21dd",
   "metadata": {},
   "outputs": [],
   "source": [
    "combined_df.to_csv(\"./all_pdb_release_dates.csv\", sep=\",\", index=False)"
   ]
  }
 ],
 "metadata": {
  "kernelspec": {
   "display_name": "Python 3 (ipykernel)",
   "language": "python",
   "name": "python3"
  },
  "language_info": {
   "codemirror_mode": {
    "name": "ipython",
    "version": 3
   },
   "file_extension": ".py",
   "mimetype": "text/x-python",
   "name": "python",
   "nbconvert_exporter": "python",
   "pygments_lexer": "ipython3",
   "version": "3.10.12"
  }
 },
 "nbformat": 4,
 "nbformat_minor": 5
}
